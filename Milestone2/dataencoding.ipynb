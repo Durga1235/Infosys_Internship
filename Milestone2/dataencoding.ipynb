{
  "nbformat": 4,
  "nbformat_minor": 0,
  "metadata": {
    "colab": {
      "provenance": []
    },
    "kernelspec": {
      "name": "python3",
      "display_name": "Python 3"
    },
    "language_info": {
      "name": "python"
    }
  },
  "cells": [
    {
      "cell_type": "code",
      "execution_count": null,
      "metadata": {
        "colab": {
          "base_uri": "https://localhost:8080/",
          "height": 73
        },
        "id": "SUc3745kABbR",
        "outputId": "ee50dac8-6164-40ed-ffc0-e7d89de96685"
      },
      "outputs": [
        {
          "output_type": "display_data",
          "data": {
            "text/plain": [
              "<IPython.core.display.HTML object>"
            ],
            "text/html": [
              "\n",
              "     <input type=\"file\" id=\"files-22924398-df2b-4d3e-adb0-783b6f9c461c\" name=\"files[]\" multiple disabled\n",
              "        style=\"border:none\" />\n",
              "     <output id=\"result-22924398-df2b-4d3e-adb0-783b6f9c461c\">\n",
              "      Upload widget is only available when the cell has been executed in the\n",
              "      current browser session. Please rerun this cell to enable.\n",
              "      </output>\n",
              "      <script>// Copyright 2017 Google LLC\n",
              "//\n",
              "// Licensed under the Apache License, Version 2.0 (the \"License\");\n",
              "// you may not use this file except in compliance with the License.\n",
              "// You may obtain a copy of the License at\n",
              "//\n",
              "//      http://www.apache.org/licenses/LICENSE-2.0\n",
              "//\n",
              "// Unless required by applicable law or agreed to in writing, software\n",
              "// distributed under the License is distributed on an \"AS IS\" BASIS,\n",
              "// WITHOUT WARRANTIES OR CONDITIONS OF ANY KIND, either express or implied.\n",
              "// See the License for the specific language governing permissions and\n",
              "// limitations under the License.\n",
              "\n",
              "/**\n",
              " * @fileoverview Helpers for google.colab Python module.\n",
              " */\n",
              "(function(scope) {\n",
              "function span(text, styleAttributes = {}) {\n",
              "  const element = document.createElement('span');\n",
              "  element.textContent = text;\n",
              "  for (const key of Object.keys(styleAttributes)) {\n",
              "    element.style[key] = styleAttributes[key];\n",
              "  }\n",
              "  return element;\n",
              "}\n",
              "\n",
              "// Max number of bytes which will be uploaded at a time.\n",
              "const MAX_PAYLOAD_SIZE = 100 * 1024;\n",
              "\n",
              "function _uploadFiles(inputId, outputId) {\n",
              "  const steps = uploadFilesStep(inputId, outputId);\n",
              "  const outputElement = document.getElementById(outputId);\n",
              "  // Cache steps on the outputElement to make it available for the next call\n",
              "  // to uploadFilesContinue from Python.\n",
              "  outputElement.steps = steps;\n",
              "\n",
              "  return _uploadFilesContinue(outputId);\n",
              "}\n",
              "\n",
              "// This is roughly an async generator (not supported in the browser yet),\n",
              "// where there are multiple asynchronous steps and the Python side is going\n",
              "// to poll for completion of each step.\n",
              "// This uses a Promise to block the python side on completion of each step,\n",
              "// then passes the result of the previous step as the input to the next step.\n",
              "function _uploadFilesContinue(outputId) {\n",
              "  const outputElement = document.getElementById(outputId);\n",
              "  const steps = outputElement.steps;\n",
              "\n",
              "  const next = steps.next(outputElement.lastPromiseValue);\n",
              "  return Promise.resolve(next.value.promise).then((value) => {\n",
              "    // Cache the last promise value to make it available to the next\n",
              "    // step of the generator.\n",
              "    outputElement.lastPromiseValue = value;\n",
              "    return next.value.response;\n",
              "  });\n",
              "}\n",
              "\n",
              "/**\n",
              " * Generator function which is called between each async step of the upload\n",
              " * process.\n",
              " * @param {string} inputId Element ID of the input file picker element.\n",
              " * @param {string} outputId Element ID of the output display.\n",
              " * @return {!Iterable<!Object>} Iterable of next steps.\n",
              " */\n",
              "function* uploadFilesStep(inputId, outputId) {\n",
              "  const inputElement = document.getElementById(inputId);\n",
              "  inputElement.disabled = false;\n",
              "\n",
              "  const outputElement = document.getElementById(outputId);\n",
              "  outputElement.innerHTML = '';\n",
              "\n",
              "  const pickedPromise = new Promise((resolve) => {\n",
              "    inputElement.addEventListener('change', (e) => {\n",
              "      resolve(e.target.files);\n",
              "    });\n",
              "  });\n",
              "\n",
              "  const cancel = document.createElement('button');\n",
              "  inputElement.parentElement.appendChild(cancel);\n",
              "  cancel.textContent = 'Cancel upload';\n",
              "  const cancelPromise = new Promise((resolve) => {\n",
              "    cancel.onclick = () => {\n",
              "      resolve(null);\n",
              "    };\n",
              "  });\n",
              "\n",
              "  // Wait for the user to pick the files.\n",
              "  const files = yield {\n",
              "    promise: Promise.race([pickedPromise, cancelPromise]),\n",
              "    response: {\n",
              "      action: 'starting',\n",
              "    }\n",
              "  };\n",
              "\n",
              "  cancel.remove();\n",
              "\n",
              "  // Disable the input element since further picks are not allowed.\n",
              "  inputElement.disabled = true;\n",
              "\n",
              "  if (!files) {\n",
              "    return {\n",
              "      response: {\n",
              "        action: 'complete',\n",
              "      }\n",
              "    };\n",
              "  }\n",
              "\n",
              "  for (const file of files) {\n",
              "    const li = document.createElement('li');\n",
              "    li.append(span(file.name, {fontWeight: 'bold'}));\n",
              "    li.append(span(\n",
              "        `(${file.type || 'n/a'}) - ${file.size} bytes, ` +\n",
              "        `last modified: ${\n",
              "            file.lastModifiedDate ? file.lastModifiedDate.toLocaleDateString() :\n",
              "                                    'n/a'} - `));\n",
              "    const percent = span('0% done');\n",
              "    li.appendChild(percent);\n",
              "\n",
              "    outputElement.appendChild(li);\n",
              "\n",
              "    const fileDataPromise = new Promise((resolve) => {\n",
              "      const reader = new FileReader();\n",
              "      reader.onload = (e) => {\n",
              "        resolve(e.target.result);\n",
              "      };\n",
              "      reader.readAsArrayBuffer(file);\n",
              "    });\n",
              "    // Wait for the data to be ready.\n",
              "    let fileData = yield {\n",
              "      promise: fileDataPromise,\n",
              "      response: {\n",
              "        action: 'continue',\n",
              "      }\n",
              "    };\n",
              "\n",
              "    // Use a chunked sending to avoid message size limits. See b/62115660.\n",
              "    let position = 0;\n",
              "    do {\n",
              "      const length = Math.min(fileData.byteLength - position, MAX_PAYLOAD_SIZE);\n",
              "      const chunk = new Uint8Array(fileData, position, length);\n",
              "      position += length;\n",
              "\n",
              "      const base64 = btoa(String.fromCharCode.apply(null, chunk));\n",
              "      yield {\n",
              "        response: {\n",
              "          action: 'append',\n",
              "          file: file.name,\n",
              "          data: base64,\n",
              "        },\n",
              "      };\n",
              "\n",
              "      let percentDone = fileData.byteLength === 0 ?\n",
              "          100 :\n",
              "          Math.round((position / fileData.byteLength) * 100);\n",
              "      percent.textContent = `${percentDone}% done`;\n",
              "\n",
              "    } while (position < fileData.byteLength);\n",
              "  }\n",
              "\n",
              "  // All done.\n",
              "  yield {\n",
              "    response: {\n",
              "      action: 'complete',\n",
              "    }\n",
              "  };\n",
              "}\n",
              "\n",
              "scope.google = scope.google || {};\n",
              "scope.google.colab = scope.google.colab || {};\n",
              "scope.google.colab._files = {\n",
              "  _uploadFiles,\n",
              "  _uploadFilesContinue,\n",
              "};\n",
              "})(self);\n",
              "</script> "
            ]
          },
          "metadata": {}
        },
        {
          "output_type": "stream",
          "name": "stdout",
          "text": [
            "Saving cleaned_heart_stroke_data.csv to cleaned_heart_stroke_data.csv\n"
          ]
        }
      ],
      "source": [
        "from google.colab import files\n",
        "uploaded = files.upload()"
      ]
    },
    {
      "cell_type": "code",
      "source": [
        "# Import necessary libraries\n",
        "import pandas as pd\n",
        "import numpy as np"
      ],
      "metadata": {
        "id": "aYNaWQNMArfu"
      },
      "execution_count": null,
      "outputs": []
    },
    {
      "cell_type": "code",
      "source": [
        "# Load the dataset (update the path as needed)\n",
        "df = pd.read_csv('cleaned_heart_stroke_data.csv')"
      ],
      "metadata": {
        "id": "_W7T6SSVAtnT"
      },
      "execution_count": null,
      "outputs": []
    },
    {
      "cell_type": "markdown",
      "source": [
        "**1. Convert Residence_type column to binary (0 = rural, 1 = urban)**"
      ],
      "metadata": {
        "id": "aVXEwJt_AyV6"
      }
    },
    {
      "cell_type": "code",
      "source": [
        "# Check unique values in the original Residence_type column\n",
        "print(\"Unique values in 'Residence_type' column before encoding:\", df['Residence_type'].unique())"
      ],
      "metadata": {
        "colab": {
          "base_uri": "https://localhost:8080/"
        },
        "id": "VJEr_I7HXZ3r",
        "outputId": "4bd80701-a5f5-4d62-cc97-8f51e724490e"
      },
      "execution_count": null,
      "outputs": [
        {
          "output_type": "stream",
          "name": "stdout",
          "text": [
            "Unique values in 'Residence_type' column before encoding: ['Urban' 'Rural']\n"
          ]
        }
      ]
    },
    {
      "cell_type": "code",
      "source": [
        "# Encode Residence_type: 0 = Rural, 1 = Urban (with improved handling for spaces and case sensitivity)\n",
        "df['Residence_type'] = df['Residence_type'].apply(lambda x: 1 if x.strip().lower() == 'urban' else 0)"
      ],
      "metadata": {
        "id": "Y-AHU1N9XqYF"
      },
      "execution_count": null,
      "outputs": []
    },
    {
      "cell_type": "code",
      "source": [
        "# Verify encoding of Residence_type\n",
        "print(\"Unique values in 'Residence_type' column after encoding:\", df['Residence_type'].unique())"
      ],
      "metadata": {
        "colab": {
          "base_uri": "https://localhost:8080/"
        },
        "id": "d7RzFMjKXxmr",
        "outputId": "377769df-79be-427c-ee4f-75be5b03b403"
      },
      "execution_count": null,
      "outputs": [
        {
          "output_type": "stream",
          "name": "stdout",
          "text": [
            "Unique values in 'Residence_type' column after encoding: [1 0]\n"
          ]
        }
      ]
    },
    {
      "cell_type": "markdown",
      "source": [
        "**Observations:**\n",
        "\n",
        "The Residence_type column is now represented in binary form,1 is for urban and o for rural.\n",
        "\n",
        "This will make it easier for machine learning algorithms to process."
      ],
      "metadata": {
        "id": "HC0Je8CzBZlL"
      }
    },
    {
      "cell_type": "markdown",
      "source": [
        "**2. Convert work_type column to multiple columns (binary encoding)**"
      ],
      "metadata": {
        "id": "i9ypfG2WBfmB"
      }
    },
    {
      "cell_type": "code",
      "source": [
        "# Convert work_type to binary columns (one-hot encoding for specific categories)\n",
        "# Encode work_type with new binary columns\n",
        "df['Never_worked'] = df['work_type'].apply(lambda x: 1 if x == 'Never_worked' else 0)\n",
        "df['Private'] = df['work_type'].apply(lambda x: 1 if x == 'Private' else 0)\n",
        "df['Self_employed'] = df['work_type'].apply(lambda x: 1 if x == 'Self-employed' else 0)"
      ],
      "metadata": {
        "id": "wiAbKP4PCbeL"
      },
      "execution_count": null,
      "outputs": []
    },
    {
      "cell_type": "markdown",
      "source": [
        "**Observations:**\n",
        "\n",
        "We created separate columns for each category within work_type, turning them into binary features.\n",
        "\n",
        "This setup allows us to represent different work types clearly without using a single categorical column, reducing model complexity."
      ],
      "metadata": {
        "id": "-mn0x3IyBlU5"
      }
    },
    {
      "cell_type": "code",
      "source": [
        "# Verify encoding for work_type columns\n",
        "print(\"Unique values in 'Never_worked':\", df['Never_worked'].unique())\n",
        "print(\"Unique values in 'Private':\", df['Private'].unique())\n",
        "print(\"Unique values in 'Self_employed':\", df['Self_employed'].unique())"
      ],
      "metadata": {
        "colab": {
          "base_uri": "https://localhost:8080/"
        },
        "id": "6B0hxZiJEZnx",
        "outputId": "234d07ec-e473-4f83-fd5d-ff3d9ae65ac2"
      },
      "execution_count": null,
      "outputs": [
        {
          "output_type": "stream",
          "name": "stdout",
          "text": [
            "Unique values in 'Never_worked': [0 1]\n",
            "Unique values in 'Private': [1 0]\n",
            "Unique values in 'Self_employed': [0 1]\n"
          ]
        }
      ]
    },
    {
      "cell_type": "markdown",
      "source": [
        "**3. Convert smoking_status column to binary columns**"
      ],
      "metadata": {
        "id": "f6TUU_6YBm3O"
      }
    },
    {
      "cell_type": "code",
      "source": [
        "# Convert smoking_status to binary columns\n",
        "# Encode smoking_status with new binary columns\n",
        "df['Never_smoked'] = df['smoking_status'].apply(lambda x: 1 if x == 'never smoked' else 0)\n",
        "df['Formerly_smoked'] = df['smoking_status'].apply(lambda x: 1 if x == 'formerly smoked' else 0)\n",
        "df['Smokes'] = df['smoking_status'].apply(lambda x: 1 if x == 'smokes' else 0)\n"
      ],
      "metadata": {
        "id": "5mKKJC7iBsDZ"
      },
      "execution_count": null,
      "outputs": []
    },
    {
      "cell_type": "markdown",
      "source": [
        "**Observations:**\n",
        "\n",
        "The smoking_status column now has separate binary columns for each category, enabling a more precise representation of smoking habits in the dataset.\n",
        "\n",
        "This encoding is necessary to avoid bias introduced by categorical values."
      ],
      "metadata": {
        "id": "wqx8z6koBtiE"
      }
    },
    {
      "cell_type": "code",
      "source": [
        "# Verify encoding for smoking_status columns\n",
        "print(\"Unique values in 'Never_smoked':\", df['Never_smoked'].unique())\n",
        "print(\"Unique values in 'Formerly_smoked':\", df['Formerly_smoked'].unique())\n",
        "print(\"Unique values in 'Smokes':\", df['Smokes'].unique())\n"
      ],
      "metadata": {
        "colab": {
          "base_uri": "https://localhost:8080/"
        },
        "id": "Z4T96uLxEiI-",
        "outputId": "678bbd10-6f8b-4286-a203-27eab3c3e5fe"
      },
      "execution_count": null,
      "outputs": [
        {
          "output_type": "stream",
          "name": "stdout",
          "text": [
            "Unique values in 'Never_smoked': [0 1]\n",
            "Unique values in 'Formerly_smoked': [1 0]\n",
            "Unique values in 'Smokes': [0 1]\n"
          ]
        }
      ]
    },
    {
      "cell_type": "markdown",
      "source": [
        "**Binary Encoding for Additional Categorical Variables (if applicable)\n",
        "If there are other categorical variables, such as gender, we can apply binary encoding similarly**"
      ],
      "metadata": {
        "id": "lj6sgF0rDvlj"
      }
    },
    {
      "cell_type": "code",
      "source": [
        "# Encode gender as binary: 0 = Female, 1 = Male\n",
        "df['gender'] = df['gender'].apply(lambda x: 1 if x == 'Male' else 0)\n"
      ],
      "metadata": {
        "id": "wA0eEaL8D2H_"
      },
      "execution_count": null,
      "outputs": []
    },
    {
      "cell_type": "code",
      "source": [
        "# Verify encoding for gender column\n",
        "print(\"Unique values in 'gender' column:\", df['gender'].unique())\n"
      ],
      "metadata": {
        "colab": {
          "base_uri": "https://localhost:8080/"
        },
        "id": "AkgxperkEnfw",
        "outputId": "2de20a6d-c9a2-408d-e9e3-195cbbd54517"
      },
      "execution_count": null,
      "outputs": [
        {
          "output_type": "stream",
          "name": "stdout",
          "text": [
            "Unique values in 'gender' column: [1 0]\n"
          ]
        }
      ]
    },
    {
      "cell_type": "markdown",
      "source": [
        "**Additional Verification:**\n",
        "\n",
        "Summary Check for Binary Columns:\n",
        "\n",
        "After encoding all columns, it’s a good to check the summary of the DataFrame to ensure that only 0s and 1s exist in the encoded columns."
      ],
      "metadata": {
        "id": "KCafAWQsEvrd"
      }
    },
    {
      "cell_type": "code",
      "source": [
        "# Verify that binary columns contain only 0s and 1s by displaying the unique values in each column\n",
        "binary_columns = ['Residence_type', 'Never_worked', 'Private', 'Self_employed',\n",
        "                  'Never_smoked', 'Formerly_smoked', 'Smokes', 'gender']\n",
        "\n",
        "for col in binary_columns:\n",
        "    print(f\"Unique values in '{col}': {df[col].unique()}\")\n"
      ],
      "metadata": {
        "colab": {
          "base_uri": "https://localhost:8080/"
        },
        "id": "R7QpXu1CE6vB",
        "outputId": "eeb90a20-1816-48cb-a0fb-661abc89a1aa"
      },
      "execution_count": null,
      "outputs": [
        {
          "output_type": "stream",
          "name": "stdout",
          "text": [
            "Unique values in 'Residence_type': [0]\n",
            "Unique values in 'Never_worked': [0 1]\n",
            "Unique values in 'Private': [1 0]\n",
            "Unique values in 'Self_employed': [0 1]\n",
            "Unique values in 'Never_smoked': [0 1]\n",
            "Unique values in 'Formerly_smoked': [1 0]\n",
            "Unique values in 'Smokes': [0 1]\n",
            "Unique values in 'gender': [1 0]\n"
          ]
        }
      ]
    },
    {
      "cell_type": "markdown",
      "source": [
        "**4. Create a new DataFrame for the data model and drop original columns**"
      ],
      "metadata": {
        "id": "0D8qPzT6By6A"
      }
    },
    {
      "cell_type": "code",
      "source": [
        "# Create a new dataframe for modeling, dropping the original columns\n",
        "df_model = df.drop(['Residence_type', 'work_type', 'smoking_status'], axis=1)"
      ],
      "metadata": {
        "id": "kv_3o1IKB3-k"
      },
      "execution_count": null,
      "outputs": []
    },
    {
      "cell_type": "markdown",
      "source": [
        "**Observations:**\n",
        "\n",
        "The new DataFrame, df_model, is ready for the next stage in data modeling.\n",
        "\n",
        "The unnecessary columns have been removed, leaving only binary encoded features, which will help improve model interpretability and performance."
      ],
      "metadata": {
        "id": "d0K07jhiCCKP"
      }
    },
    {
      "cell_type": "markdown",
      "source": [
        "**Overall Observations:**\n",
        "\n",
        "**Binary Encoding:** Each categorical variable has been converted to binary columns using only lambda functions.\n",
        "\n",
        "**Data Ready for Modeling:** The new DataFrame df_model is now optimized for machine learning models, with all categorical data represented as binary columns.\n",
        "\n",
        "**Increased Interpretability:** The binary encoding makes it easy to interpret the influence of specific categories (e.g., work type and smoking status) on stroke risk.\n",
        "\n",
        "This setup ensures all categorical data is in a format that’s easy for models to work with, while maintaining interpretability in terms of individual category contributions."
      ],
      "metadata": {
        "id": "-8ZwShFVCG_j"
      }
    }
  ]
}